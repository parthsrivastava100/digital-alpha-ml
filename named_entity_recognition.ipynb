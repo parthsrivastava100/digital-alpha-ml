{
  "nbformat": 4,
  "nbformat_minor": 0,
  "metadata": {
    "colab": {
      "name": "Untitled0.ipynb",
      "provenance": []
    },
    "kernelspec": {
      "name": "python3",
      "display_name": "Python 3"
    },
    "language_info": {
      "name": "python"
    }
  },
  "cells": [
    {
      "cell_type": "code",
      "source": [
        "import spacy"
      ],
      "metadata": {
        "id": "8myATRO5rvyu"
      },
      "execution_count": null,
      "outputs": []
    },
    {
      "cell_type": "code",
      "source": [
        "NER = spacy.load(\"en_core_web_sm\", disable=[\"tok2vec\", \"tagger\", \"parser\", \"attribute_ruler\", \"lemmatizer\"])"
      ],
      "metadata": {
        "id": "EljNSnn4o9dn"
      },
      "execution_count": null,
      "outputs": []
    },
    {
      "cell_type": "code",
      "source": [
        "# 1. search the metric name in the document\n",
        "# 2. get k words before and after the searched metric  (**but what if the prev or next words are from other para - maybe make sure they are part of same senetence)\n",
        "# 3. apply NER and check for corresonding entity (i.e. percentage or money)"
      ],
      "metadata": {
        "id": "DJr6E4nTxzd0"
      },
      "execution_count": null,
      "outputs": []
    },
    {
      "cell_type": "code",
      "source": [
        "text = \"\"\"\"\"\"\n",
        "metric = \"churn\"\n",
        "k = 5"
      ],
      "metadata": {
        "id": "3_cE-0ufy489"
      },
      "execution_count": null,
      "outputs": []
    },
    {
      "cell_type": "code",
      "source": [
        "text = text.lower()\n",
        "text = text.replace('\\n',' ')\n",
        "text = text.split(' ')"
      ],
      "metadata": {
        "id": "ML8dNnmG4bfq"
      },
      "execution_count": null,
      "outputs": []
    },
    {
      "cell_type": "code",
      "source": [
        "# 1. search the metric name in the document\n",
        "matched_indices = []\n",
        "for idx, word in enumerate(text):\n",
        "    if word == metric:\n",
        "        matched_indices.append(idx)\n",
        "print(matched_indices)"
      ],
      "metadata": {
        "id": "Dp-JHHi8y1JO"
      },
      "execution_count": null,
      "outputs": []
    },
    {
      "cell_type": "code",
      "source": [
        "# 2. get k words before and after the searched metric\n",
        "phrases_extracted = []\n",
        "for idx in matched_indices:\n",
        "    phrase = \"\"\n",
        "    for i in range(-k,k+1):\n",
        "        if idx+i < 0 or idx+i > len(text)-1:\n",
        "            continue\n",
        "        phrase += text[idx+i] + \" \"\n",
        "    phrases_extracted.append(phrase)\n",
        "print(phrases_extracted)"
      ],
      "metadata": {
        "id": "FAJFw51Q0yxm"
      },
      "execution_count": null,
      "outputs": []
    },
    {
      "cell_type": "code",
      "source": [
        "# 3. apply NER and check for corresonding entity\n",
        "possible_values = []\n",
        "for phrase in phrases_extracted:\n",
        "    entities = NER(phrase)\n",
        "    rate = []\n",
        "    date = []\n",
        "    for w in entities.ents:\n",
        "        if w.label_ == 'PERCENT':\n",
        "            rate.append(w.text)\n",
        "        elif w.label == 'DATE':\n",
        "            date.append(w.text)\n",
        "    val = {'rate':rate, 'date':date}\n",
        "    if rate != []:\n",
        "        possible_values.append(val)\n",
        "print(possible_values)"
      ],
      "metadata": {
        "id": "x0ZwSeOS2LvI"
      },
      "execution_count": null,
      "outputs": []
    },
    {
      "cell_type": "code",
      "source": [
        ""
      ],
      "metadata": {
        "id": "SVwO0ZYq4KEs"
      },
      "execution_count": null,
      "outputs": []
    }
  ]
}