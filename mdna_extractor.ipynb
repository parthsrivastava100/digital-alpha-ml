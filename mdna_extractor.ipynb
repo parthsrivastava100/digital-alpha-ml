{
 "cells": [
  {
   "cell_type": "code",
   "execution_count": 4,
   "metadata": {},
   "outputs": [],
   "source": [
    "from sec_api import ExtractorApi\n",
    "api_key = 'a1329fe68c580053f105af3d64271e73ce8142234390d75273636673acf06038'\n",
    "extractorApi = ExtractorApi(api_key)"
   ]
  },
  {
   "cell_type": "code",
   "execution_count": 5,
   "metadata": {},
   "outputs": [],
   "source": [
    "def get_section(filing_url,section_name) :\n",
    "    # HERE I'm extractinbg section 7, replace it with section you want to extract\n",
    "    section_text = extractorApi.get_section(filing_url, section_name, \"text\")\n",
    "    return section_text\n",
    "    "
   ]
  },
  {
   "cell_type": "code",
   "execution_count": 6,
   "metadata": {},
   "outputs": [
    {
     "data": {
      "text/plain": [
       "'undefined'"
      ]
     },
     "execution_count": 6,
     "metadata": {},
     "output_type": "execute_result"
    }
   ],
   "source": [
    "get_section('https://www.sec.gov/Archives/edgar/data/0001144519/000114451919000006/fourteenthamendmenttothert.htm','7')"
   ]
  },
  {
   "cell_type": "code",
   "execution_count": null,
   "metadata": {},
   "outputs": [],
   "source": []
  }
 ],
 "metadata": {
  "kernelspec": {
   "display_name": "Python 3.8.3 64-bit ('base': conda)",
   "language": "python",
   "name": "python383jvsc74a57bd0067485f78782b1842b8000df3edc7ff0da6075b40c4ef6b239b4438569e5e362"
  },
  "language_info": {
   "codemirror_mode": {
    "name": "ipython",
    "version": 3
   },
   "file_extension": ".py",
   "mimetype": "text/x-python",
   "name": "python",
   "nbconvert_exporter": "python",
   "pygments_lexer": "ipython3",
   "version": "3.8.3"
  }
 },
 "nbformat": 4,
 "nbformat_minor": 2
}
