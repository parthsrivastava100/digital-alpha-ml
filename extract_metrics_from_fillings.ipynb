{
  "nbformat": 4,
  "nbformat_minor": 0,
  "metadata": {
    "colab": {
      "name": "Untitled1.ipynb",
      "provenance": []
    },
    "kernelspec": {
      "name": "python3",
      "display_name": "Python 3"
    },
    "language_info": {
      "name": "python"
    }
  },
  "cells": [
    {
      "cell_type": "code",
      "source": [
        "!pip install sec-api\n",
        "!pip install -U transformers==3.0.0\n",
        "!python -m nltk.downloader punkt\n",
        "!git clone https://github.com/patil-suraj/question_generation.git\n",
        "%cd question_generation"
      ],
      "metadata": {
        "id": "XP5N3UtgQ1AU"
      },
      "execution_count": null,
      "outputs": []
    },
    {
      "cell_type": "code",
      "source": [
        "import spacy\n",
        "\n",
        "from pipelines import pipeline\n",
        "from nltk.tokenize import sent_tokenize\n",
        "import re\n",
        "\n",
        "from sec_api import ExtractorApi"
      ],
      "metadata": {
        "id": "gKY9J8hE8l5i"
      },
      "execution_count": 66,
      "outputs": []
    },
    {
      "cell_type": "code",
      "source": [
        "def get_section(filing_url, section) :\n",
        "    res = filing_url[:filing_url.index(\"htm\") + len(\"htm\")]\n",
        "    section_text = extractorApi.get_section(res, section, \"text\")\n",
        "    return section_text"
      ],
      "metadata": {
        "id": "tE9wBXkbdwW5"
      },
      "execution_count": 80,
      "outputs": []
    },
    {
      "cell_type": "code",
      "source": [
        "def preprocess_text(text):\n",
        "    temp_text = text.lower().replace('\\n',' ').replace(' %','%')\n",
        "    return temp_text"
      ],
      "metadata": {
        "id": "NsvE_vuV8l5j"
      },
      "execution_count": 68,
      "outputs": []
    },
    {
      "cell_type": "code",
      "source": [
        "def extract_metric_vals(text, val_type=\"PERCENT\", NER=None):\n",
        "    if val_type == \"PERCENT\":\n",
        "        return re.findall(r'(\\d+(?:\\.\\d+)?%?(?!\\S))', text)\n",
        "    if val_type == \"NUMBER\":\n",
        "        return re.findall(r\"[+-]?([0-9]+\\.?[0-9]*|\\.[0-9]+)\", text)\n",
        "    if val_type == \"RATIO\":\n",
        "        return re.findall(r\"([0-9]+:[0-9]+)\", text)\n",
        "    if val_type == \"MONEY\":\n",
        "        values = []\n",
        "        entities = NER(text)\n",
        "        for w in entities.ents:\n",
        "            if w.label_ == 'MONEY':\n",
        "                values.append(w.text)\n",
        "        return values\n",
        "    return []"
      ],
      "metadata": {
        "id": "5izmPP7cFKx8"
      },
      "execution_count": 69,
      "outputs": []
    },
    {
      "cell_type": "code",
      "source": [
        "# 1. search the metric name in the document\n",
        "def search_metric(text_list, metric_list):\n",
        "    matched_indices = []\n",
        "    idx = 0\n",
        "    while idx < len(text_list):\n",
        "        if text_list[idx : idx+len(metric_list)] == metric_list:\n",
        "            matched_indices.append(idx)\n",
        "        idx += 1\n",
        "    return matched_indices\n",
        "\n",
        "# 2. get k words before and after the searched metric\n",
        "def extract_phrases(text_list, matched_indices, k):\n",
        "    phrases_extracted = []\n",
        "    for idx in matched_indices:\n",
        "        phrase = \"\"\n",
        "        for i in range(-k,k+1):\n",
        "            if idx+i < 0 or idx+i > len(text_list)-1:\n",
        "                continue\n",
        "            phrase += text_list[idx+i] + \" \"\n",
        "        phrases_extracted.append(phrase)\n",
        "    return phrases_extracted\n",
        "\n",
        "# 3. apply NER and check for corresonding entity\n",
        "def find_possible_values(text, metric, NER, k, val_type='PERCENT'):\n",
        "    text = text.replace(',', ' ').replace('-', ' ')\n",
        "    metric = metric.replace('-', ' ')\n",
        "    text_list = text.split(' ')\n",
        "    metric_list = metric.split(' ')\n",
        "    matched_indices = search_metric(text_list, metric_list)\n",
        "    phrases_extracted = extract_phrases(text_list, matched_indices, k)\n",
        "    possible_values = []\n",
        "    for phrase in phrases_extracted:\n",
        "        possible_values += extract_metric_vals(phrase, val_type, NER)\n",
        "    return possible_values"
      ],
      "metadata": {
        "id": "slnYQPMa8l5j"
      },
      "execution_count": 94,
      "outputs": []
    },
    {
      "cell_type": "code",
      "source": [
        "def filter_passage(doc,metric) :\n",
        "    sents = sent_tokenize(doc)\n",
        "    filtered_sents = \".\".join(s for s in sents if metric in s)\n",
        "    return filtered_sents\n",
        "\n",
        "def get_output(passage,question,metric,NER,val_type='PERCENT') :\n",
        "    tex = preprocess_text(passage)\n",
        "    filtered_passage = filter_passage(tex,metric)\n",
        "    ans = nlp({  \"question\": question,  \"context\": filtered_passage})\n",
        "    ans = ans.replace(',', ' ')\n",
        "    output_values = extract_metric_vals(ans, val_type, NER)\n",
        "    return output_values\n",
        "\n",
        "def get_correct_value(possible_values, output_values):\n",
        "    correct_values = []\n",
        "    for val1 in output_values:\n",
        "        for val2 in possible_values:\n",
        "            if val1 == val2 and val1 not in correct_values:\n",
        "                correct_values.append(val1)    \n",
        "    if len(correct_values) > 0:\n",
        "        return correct_values[-1]\n",
        "    return ''"
      ],
      "metadata": {
        "id": "NyINcq8vQ_WJ"
      },
      "execution_count": 95,
      "outputs": []
    },
    {
      "cell_type": "code",
      "source": [
        "api_key = 'a93056a9046b0eba675e7150c1d08d361f20fa97332b04524c7e7f7b2a569dfa'\n",
        "extractorApi = ExtractorApi(api_key)"
      ],
      "metadata": {
        "id": "_ohvGki1dkt5"
      },
      "execution_count": 72,
      "outputs": []
    },
    {
      "cell_type": "code",
      "source": [
        "NER = spacy.load(\"en_core_web_sm\", disable=[\"tok2vec\", \"tagger\", \"parser\", \"attribute_ruler\", \"lemmatizer\"])\n",
        "nlp = pipeline(\"multitask-qa-qg\")"
      ],
      "metadata": {
        "id": "kWd8QjqO81kv"
      },
      "execution_count": 73,
      "outputs": []
    },
    {
      "cell_type": "code",
      "source": [
        "# get text from url\n",
        "url = \"https://www.sec.gov/Archives/edgar/data/0000908937/000090893720000011/siri-20191231x10k.htm\"\n",
        "text = ''\n",
        "for sec in ['1', '1A', '6', '7']:           # fill this with relevent sections for the metric\n",
        "    text += get_section(url, sec) + ' '\n",
        "text = preprocess_text(text)"
      ],
      "metadata": {
        "id": "pGxe9wkzAaxF"
      },
      "execution_count": 92,
      "outputs": []
    },
    {
      "cell_type": "code",
      "source": [
        "metric = \"churn rate\"\n",
        "val_type = \"PERCENT\"\n",
        "k = 6\n",
        "possible_values = find_possible_values(text, metric, NER, k, val_type)\n",
        "output_values = get_output(text, f'What is the value of {metric}?', metric, NER, val_type)\n",
        "correct_value = get_correct_value(possible_values, output_values)\n",
        "print(correct_value)"
      ],
      "metadata": {
        "id": "EOlkMuHBAmwO"
      },
      "execution_count": null,
      "outputs": []
    },
    {
      "cell_type": "code",
      "source": [
        ""
      ],
      "metadata": {
        "id": "_O62iYE1INwT"
      },
      "execution_count": null,
      "outputs": []
    },
    {
      "cell_type": "code",
      "source": [
        ""
      ],
      "metadata": {
        "id": "MSEkT0ygAvf6"
      },
      "execution_count": null,
      "outputs": []
    }
  ]
}