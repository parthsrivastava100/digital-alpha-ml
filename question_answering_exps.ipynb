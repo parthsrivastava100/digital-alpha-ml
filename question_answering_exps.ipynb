{
  "nbformat": 4,
  "nbformat_minor": 0,
  "metadata": {
    "colab": {
      "name": "question-answering-exps.ipynb",
      "provenance": [],
      "collapsed_sections": []
    },
    "kernelspec": {
      "name": "python3",
      "display_name": "Python 3"
    },
    "language_info": {
      "name": "python"
    },
    "accelerator": "GPU"
  },
  "cells": [
    {
      "cell_type": "code",
      "execution_count": 20,
      "metadata": {
        "colab": {
          "base_uri": "https://localhost:8080/"
        },
        "id": "J7zD3nrtRE1g",
        "outputId": "1cecff41-becf-4a0b-c280-a04ba71c2a83"
      },
      "outputs": [
        {
          "output_type": "stream",
          "name": "stdout",
          "text": [
            "Requirement already satisfied: transformers==3.0.0 in /usr/local/lib/python3.7/dist-packages (3.0.0)\n",
            "Requirement already satisfied: packaging in /usr/local/lib/python3.7/dist-packages (from transformers==3.0.0) (21.3)\n",
            "Requirement already satisfied: regex!=2019.12.17 in /usr/local/lib/python3.7/dist-packages (from transformers==3.0.0) (2019.12.20)\n",
            "Requirement already satisfied: sacremoses in /usr/local/lib/python3.7/dist-packages (from transformers==3.0.0) (0.0.47)\n",
            "Requirement already satisfied: tokenizers==0.8.0-rc4 in /usr/local/lib/python3.7/dist-packages (from transformers==3.0.0) (0.8.0rc4)\n",
            "Requirement already satisfied: filelock in /usr/local/lib/python3.7/dist-packages (from transformers==3.0.0) (3.6.0)\n",
            "Requirement already satisfied: numpy in /usr/local/lib/python3.7/dist-packages (from transformers==3.0.0) (1.21.5)\n",
            "Requirement already satisfied: sentencepiece in /usr/local/lib/python3.7/dist-packages (from transformers==3.0.0) (0.1.96)\n",
            "Requirement already satisfied: tqdm>=4.27 in /usr/local/lib/python3.7/dist-packages (from transformers==3.0.0) (4.63.0)\n",
            "Requirement already satisfied: requests in /usr/local/lib/python3.7/dist-packages (from transformers==3.0.0) (2.23.0)\n",
            "Requirement already satisfied: pyparsing!=3.0.5,>=2.0.2 in /usr/local/lib/python3.7/dist-packages (from packaging->transformers==3.0.0) (3.0.7)\n",
            "Requirement already satisfied: idna<3,>=2.5 in /usr/local/lib/python3.7/dist-packages (from requests->transformers==3.0.0) (2.10)\n",
            "Requirement already satisfied: certifi>=2017.4.17 in /usr/local/lib/python3.7/dist-packages (from requests->transformers==3.0.0) (2021.10.8)\n",
            "Requirement already satisfied: urllib3!=1.25.0,!=1.25.1,<1.26,>=1.21.1 in /usr/local/lib/python3.7/dist-packages (from requests->transformers==3.0.0) (1.24.3)\n",
            "Requirement already satisfied: chardet<4,>=3.0.2 in /usr/local/lib/python3.7/dist-packages (from requests->transformers==3.0.0) (3.0.4)\n",
            "Requirement already satisfied: joblib in /usr/local/lib/python3.7/dist-packages (from sacremoses->transformers==3.0.0) (1.1.0)\n",
            "Requirement already satisfied: click in /usr/local/lib/python3.7/dist-packages (from sacremoses->transformers==3.0.0) (7.1.2)\n",
            "Requirement already satisfied: six in /usr/local/lib/python3.7/dist-packages (from sacremoses->transformers==3.0.0) (1.15.0)\n",
            "/usr/lib/python3.7/runpy.py:125: RuntimeWarning: 'nltk.downloader' found in sys.modules after import of package 'nltk', but prior to execution of 'nltk.downloader'; this may result in unpredictable behaviour\n",
            "  warn(RuntimeWarning(msg))\n",
            "[nltk_data] Downloading package punkt to /root/nltk_data...\n",
            "[nltk_data]   Package punkt is already up-to-date!\n",
            "Cloning into 'question_generation'...\n",
            "remote: Enumerating objects: 265, done.\u001b[K\n",
            "remote: Counting objects: 100% (109/109), done.\u001b[K\n",
            "remote: Compressing objects: 100% (14/14), done.\u001b[K\n",
            "remote: Total 265 (delta 100), reused 95 (delta 95), pack-reused 156\u001b[K\n",
            "Receiving objects: 100% (265/265), 289.06 KiB | 12.04 MiB/s, done.\n",
            "Resolving deltas: 100% (146/146), done.\n",
            "/content/question_generation/question_generation/question_generation\n"
          ]
        }
      ],
      "source": [
        "!pip install -U transformers==3.0.0\n",
        "!python -m nltk.downloader punkt\n",
        "!git clone https://github.com/patil-suraj/question_generation.git\n",
        "%cd question_generation\n",
        "from pipelines import pipeline\n",
        "import re\n"
      ]
    },
    {
      "cell_type": "code",
      "source": [
        "nlp = pipeline(\"multitask-qa-qg\")"
      ],
      "metadata": {
        "id": "YLHVFkPyRb77"
      },
      "execution_count": 21,
      "outputs": []
    },
    {
      "cell_type": "code",
      "source": [
        "def preprocess_text(doc) :\n",
        "  # document = re.sub('[^\\.A-Za-z0-9]+', ' ', doc)\n",
        "  document = doc.lower()\n",
        "  return document\n"
      ],
      "metadata": {
        "id": "49DPEhdURekm"
      },
      "execution_count": 27,
      "outputs": []
    },
    {
      "cell_type": "code",
      "source": [
        "def filter_passage(doc,metric) :\n",
        "  sents = list(doc.split('.'))\n",
        "  filtered_sents = \".\".join(s for s in sents if metric in s)\n",
        "  return filtered_sents"
      ],
      "metadata": {
        "id": "oE2VPs1jRgSq"
      },
      "execution_count": 28,
      "outputs": []
    },
    {
      "cell_type": "code",
      "source": [
        "def get_output(passage,question,metric) :\n",
        "  tex = preprocess_text(passage)\n",
        "  filtered_passage = filter_passage(tex,metric)\n",
        "  ans = nlp({  \"question\": question,  \"context\": filtered_passage})\n",
        "  return ans"
      ],
      "metadata": {
        "id": "BwqdikxQRiaa"
      },
      "execution_count": 29,
      "outputs": []
    },
    {
      "cell_type": "code",
      "source": [
        "temp_text = '''Revenue increased $229.9 million, or 57%, for the year ended January 31, 2020 compared to the year ended January 31, 2019. The increase in revenue was primarily due to expansion within our existing Paid Customers, as reflected by our Net Dollar Retention Rate of 132% as of January 31, 2020, and the addition of new Paid Customers, as our number of Paid Customers increased by 25% in the year ended January 31, 2020 compared to the prior year. In addition, revenue generated from Paid Customers > $100,000 in the year ended January 31, 2020 increased to 46% compared to 40% in the year ended January 31, 2019.\n",
        "Cost of revenue increased $45.9 million, or 89%, for the year ended January 31, 2020 compared to the year ended January 31, 2019. The increase was primarily due to a $16.4 million increase in stock-based compensation and related employer payroll taxes, driven by the satisfaction of the performance vesting condition on outstanding RSUs in connection with the Direct Listing in June 2019. The increase was also driven by a $12.4 million increase in third-party hosting costs as the number of organizations on, and usage of, Slack in general increased, an $8.8 million increase in personnel costs related to increased headcount, and a $3.9 million increase in facility- and IT-related overhead costs to support our headcount growth and the continued development and scalability of Slack.'''"
      ],
      "metadata": {
        "id": "M83PLAsWRkEZ"
      },
      "execution_count": 30,
      "outputs": []
    },
    {
      "cell_type": "code",
      "source": [
        "get_output(temp_text,'What is the value of retention rate?','retention rate')"
      ],
      "metadata": {
        "id": "F_zoXRaPRlP4",
        "colab": {
          "base_uri": "https://localhost:8080/",
          "height": 35
        },
        "outputId": "2cf1c4c6-cfbe-4b8e-af5a-471943872b82"
      },
      "execution_count": 31,
      "outputs": [
        {
          "output_type": "execute_result",
          "data": {
            "application/vnd.google.colaboratory.intrinsic+json": {
              "type": "string"
            },
            "text/plain": [
              "'132%'"
            ]
          },
          "metadata": {},
          "execution_count": 31
        }
      ]
    },
    {
      "cell_type": "code",
      "source": [
        ""
      ],
      "metadata": {
        "id": "d7hSCFSGRrj8"
      },
      "execution_count": 26,
      "outputs": []
    },
    {
      "cell_type": "code",
      "source": [
        ""
      ],
      "metadata": {
        "id": "IYP2N-A2TR83"
      },
      "execution_count": null,
      "outputs": []
    },
    {
      "cell_type": "code",
      "source": [
        ""
      ],
      "metadata": {
        "id": "7zC_CareR0vU"
      },
      "execution_count": 31,
      "outputs": []
    },
    {
      "cell_type": "code",
      "source": [
        ""
      ],
      "metadata": {
        "id": "yEzmWg7ESeX_"
      },
      "execution_count": null,
      "outputs": []
    },
    {
      "cell_type": "code",
      "source": [
        ""
      ],
      "metadata": {
        "id": "V8FhsXkQSkqJ"
      },
      "execution_count": null,
      "outputs": []
    }
  ]
}