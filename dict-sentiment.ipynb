{
 "cells": [
  {
   "cell_type": "code",
   "execution_count": 13,
   "metadata": {},
   "outputs": [],
   "source": [
    "import json\n",
    "import re\n",
    "with open('./dict-data.json', 'r') as f:\n",
    "  data = json.load(f)"
   ]
  },
  {
   "cell_type": "code",
   "execution_count": 14,
   "metadata": {},
   "outputs": [],
   "source": [
    "import spacy\n",
    "sp = spacy.load('en_core_web_lg')\n",
    "all_stopwords = sp.Defaults.stop_words"
   ]
  },
  {
   "cell_type": "code",
   "execution_count": 27,
   "metadata": {},
   "outputs": [],
   "source": [
    "def get_class_counter(document) :\n",
    "    doc = preprocess_data(document)\n",
    "    sentiment_dict = {}\n",
    "    tokens_temp = doc.split()\n",
    "    tokens = [t for t in tokens_temp if t not in all_stopwords]\n",
    "    for token in tokens :\n",
    "        if token in data :\n",
    "            for class_label in data[token] :\n",
    "                if class_label in sentiment_dict :\n",
    "                    sentiment_dict[class_label] += 1\n",
    "                else :\n",
    "                    sentiment_dict[class_label] = 1   \n",
    "    for key in sentiment_dict :\n",
    "        sentiment_dict[key] = float(sentiment_dict[key]/len(tokens))\n",
    "    return sentiment_dict"
   ]
  },
  {
   "cell_type": "code",
   "execution_count": 28,
   "metadata": {},
   "outputs": [],
   "source": [
    "def preprocess_data(doc) :\n",
    "  document = re.sub('[^A-Za-z0-9]+', ' ', doc)\n",
    "  document = document.lower()   \n",
    "  return document\n",
    "    \n",
    "    "
   ]
  },
  {
   "cell_type": "code",
   "execution_count": 29,
   "metadata": {},
   "outputs": [],
   "source": [
    "temp_text = 'Write the text here'"
   ]
  },
  {
   "cell_type": "code",
   "execution_count": 30,
   "metadata": {},
   "outputs": [],
   "source": [
    "sent_dict = get_class_counter(temp_text)"
   ]
  },
  {
   "cell_type": "code",
   "execution_count": 31,
   "metadata": {},
   "outputs": [
    {
     "data": {
      "text/plain": [
       "{'Constraining': 0.014903565166569257,\n",
       " 'Negative': 0.01782583284628872,\n",
       " 'Uncertainty': 0.013150204558737581,\n",
       " 'Litigious': 0.0067212156633547635,\n",
       " 'Weak_Modal': 0.0017533606078316774,\n",
       " 'Positive': 0.0058445353594389245}"
      ]
     },
     "execution_count": 31,
     "metadata": {},
     "output_type": "execute_result"
    }
   ],
   "source": [
    "sent_dict"
   ]
  },
  {
   "cell_type": "code",
   "execution_count": null,
   "metadata": {},
   "outputs": [],
   "source": []
  }
 ],
 "metadata": {
  "kernelspec": {
   "display_name": "Python 3.8.3 64-bit ('base': conda)",
   "language": "python",
   "name": "python383jvsc74a57bd0067485f78782b1842b8000df3edc7ff0da6075b40c4ef6b239b4438569e5e362"
  },
  "language_info": {
   "codemirror_mode": {
    "name": "ipython",
    "version": 3
   },
   "file_extension": ".py",
   "mimetype": "text/x-python",
   "name": "python",
   "nbconvert_exporter": "python",
   "pygments_lexer": "ipython3",
   "version": "3.8.3"
  }
 },
 "nbformat": 4,
 "nbformat_minor": 2
}
