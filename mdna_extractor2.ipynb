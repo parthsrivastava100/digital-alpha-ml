{
  "nbformat": 4,
  "nbformat_minor": 0,
  "metadata": {
    "colab": {
      "name": "mdna_extractor2.ipynb",
      "provenance": []
    },
    "kernelspec": {
      "name": "python3",
      "display_name": "Python 3"
    },
    "language_info": {
      "name": "python"
    }
  },
  "cells": [
    {
      "cell_type": "code",
      "execution_count": 23,
      "metadata": {
        "colab": {
          "base_uri": "https://localhost:8080/"
        },
        "id": "IvQ6RBNGb1x-",
        "outputId": "d53ae785-90e8-47cb-a2f0-0fb43aa84a1d"
      },
      "outputs": [
        {
          "output_type": "stream",
          "name": "stdout",
          "text": [
            "Requirement already satisfied: sec_api in /usr/local/lib/python3.7/dist-packages (1.0.9)\n",
            "Requirement already satisfied: requests in /usr/local/lib/python3.7/dist-packages (from sec_api) (2.23.0)\n",
            "Requirement already satisfied: chardet<4,>=3.0.2 in /usr/local/lib/python3.7/dist-packages (from requests->sec_api) (3.0.4)\n",
            "Requirement already satisfied: urllib3!=1.25.0,!=1.25.1,<1.26,>=1.21.1 in /usr/local/lib/python3.7/dist-packages (from requests->sec_api) (1.24.3)\n",
            "Requirement already satisfied: idna<3,>=2.5 in /usr/local/lib/python3.7/dist-packages (from requests->sec_api) (2.10)\n",
            "Requirement already satisfied: certifi>=2017.4.17 in /usr/local/lib/python3.7/dist-packages (from requests->sec_api) (2021.10.8)\n"
          ]
        }
      ],
      "source": [
        "from sec_api import ExtractorApi\n",
        "api_key = 'a1329fe68c580053f105af3d64271e73ce8142234390d75273636673acf06038'\n",
        "extractorApi = ExtractorApi(api_key)"
      ]
    },
    {
      "cell_type": "code",
      "source": [
        "def get_section(filing_url,section_name) :\n",
        "    res = filing_url[:filing_url.index(\"htm\") + len(\"htm\")]\n",
        "    # HERE I'm extractinbg section 7, replace it with section you want to extract \n",
        "    section_text = extractorApi.get_section(str(res), \"7\", \"text\")\n",
        "    return section_text"
      ],
      "metadata": {
        "id": "DzEEUZSGcYGM"
      },
      "execution_count": 41,
      "outputs": []
    }
  ]
}