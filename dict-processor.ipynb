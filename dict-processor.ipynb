{
 "cells": [
  {
   "cell_type": "code",
   "execution_count": 14,
   "metadata": {},
   "outputs": [],
   "source": [
    "import pandas as pd\n",
    "import copy\n",
    "df = pd.read_csv('./master-dict.csv')"
   ]
  },
  {
   "cell_type": "code",
   "execution_count": 15,
   "metadata": {},
   "outputs": [],
   "source": [
    "def get_mappings(df,class_label,temp_dict) :\n",
    "    temp_df = df[df[f'{class_label}'] != 0]\n",
    "    for index,row in temp_df.iterrows() :\n",
    "        word = str(row['Word']).lower()\n",
    "        if word in temp_dict :\n",
    "            temp_dict[word].append(class_label)\n",
    "        else :\n",
    "            temp_dict[word] = [class_label]\n",
    "    return temp_dict"
   ]
  },
  {
   "cell_type": "code",
   "execution_count": 16,
   "metadata": {},
   "outputs": [
    {
     "data": {
      "text/plain": [
       "Index(['Word', 'Seq_num', 'Word Count', 'Word Proportion',\n",
       "       'Average Proportion', 'Std Dev', 'Doc Count', 'Negative', 'Positive',\n",
       "       'Uncertainty', 'Litigious', 'Strong_Modal', 'Weak_Modal',\n",
       "       'Constraining', 'Syllables', 'Source'],\n",
       "      dtype='object')"
      ]
     },
     "execution_count": 16,
     "metadata": {},
     "output_type": "execute_result"
    }
   ],
   "source": [
    "df.columns"
   ]
  },
  {
   "cell_type": "code",
   "execution_count": 17,
   "metadata": {},
   "outputs": [],
   "source": [
    "labels = ['Negative','Positive','Uncertainty','Litigious','Constraining','Strong_Modal','Weak_Modal']\n",
    "final_dict = {}\n",
    "for label in labels :\n",
    "    temp_df = copy.deepcopy(df)\n",
    "    final_dict = get_mappings(temp_df,label,final_dict) \n",
    "\n",
    "     "
   ]
  },
  {
   "cell_type": "code",
   "execution_count": null,
   "metadata": {},
   "outputs": [],
   "source": []
  },
  {
   "cell_type": "code",
   "execution_count": null,
   "metadata": {},
   "outputs": [],
   "source": []
  }
 ],
 "metadata": {
  "kernelspec": {
   "display_name": "Python 3.8.3 64-bit ('base': conda)",
   "language": "python",
   "name": "python383jvsc74a57bd0067485f78782b1842b8000df3edc7ff0da6075b40c4ef6b239b4438569e5e362"
  },
  "language_info": {
   "codemirror_mode": {
    "name": "ipython",
    "version": 3
   },
   "file_extension": ".py",
   "mimetype": "text/x-python",
   "name": "python",
   "nbconvert_exporter": "python",
   "pygments_lexer": "ipython3",
   "version": "3.8.3"
  }
 },
 "nbformat": 4,
 "nbformat_minor": 2
}
