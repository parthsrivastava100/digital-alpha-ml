{
  "nbformat": 4,
  "nbformat_minor": 0,
  "metadata": {
    "colab": {
      "name": "Untitled4.ipynb",
      "provenance": []
    },
    "kernelspec": {
      "name": "python3",
      "display_name": "Python 3"
    },
    "language_info": {
      "name": "python"
    }
  },
  "cells": [
    {
      "cell_type": "code",
      "source": [
        "!pip install -U transformers==3.0.0\n",
        "!python -m nltk.downloader punkt\n",
        "!git clone https://github.com/patil-suraj/question_generation.git"
      ],
      "metadata": {
        "id": "f5XIoQG1-UbQ"
      },
      "execution_count": null,
      "outputs": []
    },
    {
      "cell_type": "code",
      "source": [
        "%cd question_generation"
      ],
      "metadata": {
        "id": "VutozN5w-Yoh"
      },
      "execution_count": null,
      "outputs": []
    },
    {
      "cell_type": "code",
      "source": [
        "from pipelines import pipeline"
      ],
      "metadata": {
        "id": "NFLg5iJI-dLC"
      },
      "execution_count": null,
      "outputs": []
    },
    {
      "cell_type": "code",
      "source": [
        "nlp = pipeline(\"multitask-qa-qg\", model=\"valhalla/t5-base-qa-qg-hl\")"
      ],
      "metadata": {
        "id": "wBlUn7fN_GZx"
      },
      "execution_count": null,
      "outputs": []
    },
    {
      "cell_type": "code",
      "source": [
        "text = \"\"\"Our streaming service includes a variety of music and non-music channels and podcasts as well as channels that are not available on our satellite radio service.  We offer applications to allow consumers to access our streaming service on smartphones, tablets, computers, home devices and other consumer electronic equipment.\n",
        "Our streaming product currently features: the broad range of music, sports, talk, news and entertainment channels available on satellite radio; access to over 100 additional music channels, which we refer to as Xtra Music Channels; and a rich offering of video content, including video from The Howard Stern Show and memorable performances and interviews from Sirius XM’s archives, including in-studio performances and behind-the-scenes moments with artists, personalities and newsmakers. SiriusXM On Demand offers our streaming subscribers the ability to choose their favorite episodes from a catalog of content whenever they want as well as select material from a growing library of podcasts we are assembling.\n",
        "Our streaming service is included as part of the price of Sirius XM’s Select and All Access packages. Our Personalized Stations Powered by Pandora, which allows subscribers to create their own customized commercial-free music station within the Sirius XM app, feature is offered to consumers as part of the price of Sirius XM’s All Access package. We also offer our streaming service in several standalone packages, which do not include a satellite radio subscription. These packages, which include the Premier Streaming Plan, Essentials Plan, Student Plan and Military Plan, are available to consumers at various prices and include a variety of content.\n",
        "In 2019, we also entered into agreements to increase the distribution and ease of use of our streaming service, including through connected devices and smart speakers. We entered into a marketing agreement with Amazon to distribute their Echo smart speakers with Sirius XM’s streaming service. We entered into an agreement with Google to distribute the Google Home Hub with a subscription to Sirius XM’s streaming services. We also have various arrangements with various services and consumer electronics manufactures to include the Sirius XM streaming functionality with their service and devices.\"\"\""
      ],
      "metadata": {
        "id": "2a0ihic0D6YG"
      },
      "execution_count": null,
      "outputs": []
    },
    {
      "cell_type": "code",
      "source": [
        "qna_dict = nlp(text)\n",
        "qna_dict"
      ],
      "metadata": {
        "id": "JatCZGQI-hxA"
      },
      "execution_count": null,
      "outputs": []
    }
  ]
}