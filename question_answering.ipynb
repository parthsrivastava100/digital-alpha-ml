{
 "cells": [
  {
   "cell_type": "code",
   "execution_count": null,
   "metadata": {
    "colab": {
     "base_uri": "https://localhost:8080/"
    },
    "id": "VNkbmHs_eYiD",
    "outputId": "44b0c047-307d-4f23-d62d-7a757f75b1ff"
   },
   "outputs": [],
   "source": [
    "!pip install allennlp==2.1.0 allennlp-models==2.1.0"
   ]
  },
  {
   "cell_type": "code",
   "execution_count": null,
   "metadata": {
    "colab": {
     "base_uri": "https://localhost:8080/"
    },
    "id": "QBhgW1Jned0i",
    "outputId": "df01f919-8f60-4d7d-f01d-71502d1d4398"
   },
   "outputs": [],
   "source": [
    "from allennlp.predictors.predictor import Predictor\n",
    "import allennlp_models.rc\n",
    "import re\n",
    "predictor = Predictor.from_path(\"https://storage.googleapis.com/allennlp-public-models/bidaf-elmo.2021-02-11.tar.gz\")"
   ]
  },
  {
   "cell_type": "code",
   "execution_count": null,
   "metadata": {
    "id": "1nAYk2kbfGRr"
   },
   "outputs": [],
   "source": []
  },
  {
   "cell_type": "code",
   "execution_count": null,
   "metadata": {
    "id": "bIl7zNpHjK2U"
   },
   "outputs": [],
   "source": [
    "def preprocess_text(doc) :\n",
    "  document = re.sub('[^\\.A-Za-z0-9]+', ' ', doc)\n",
    "  return document\n"
   ]
  },
  {
   "cell_type": "code",
   "execution_count": null,
   "metadata": {
    "id": "Csop_v7Tf4-x"
   },
   "outputs": [],
   "source": [
    "def get_answer(passage,question) :\n",
    "  ans = predictor.predict(passage = passage, question = question)\n",
    "  return ans['best_span_str']\n",
    "\n"
   ]
  },
  {
   "cell_type": "code",
   "execution_count": null,
   "metadata": {
    "id": "EL97JdMwj1IK"
   },
   "outputs": [],
   "source": []
  }
 ],
 "metadata": {
  "colab": {
   "collapsed_sections": [],
   "name": "question-answering",
   "provenance": []
  },
  "kernelspec": {
   "display_name": "Python 3.8.3 64-bit ('base': conda)",
   "language": "python",
   "name": "python383jvsc74a57bd0067485f78782b1842b8000df3edc7ff0da6075b40c4ef6b239b4438569e5e362"
  },
  "language_info": {
   "codemirror_mode": {
    "name": "ipython",
    "version": 3
   },
   "file_extension": ".py",
   "mimetype": "text/x-python",
   "name": "python",
   "nbconvert_exporter": "python",
   "pygments_lexer": "ipython3",
   "version": "3.8.3"
  }
 },
 "nbformat": 4,
 "nbformat_minor": 1
}
